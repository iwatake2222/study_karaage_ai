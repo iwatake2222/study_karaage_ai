{
  "nbformat": 4,
  "nbformat_minor": 0,
  "metadata": {
    "colab": {
      "name": "karaage_ai_02_01_webcamera.ipynb",
      "provenance": [],
      "collapsed_sections": [],
      "mount_file_id": "1dHMBp7zaoTjTvEkY13XiWrhk_DHfnF6C",
      "authorship_tag": "ABX9TyOO+agF9HC+nw/2r1cWFPsQ",
      "include_colab_link": true
    },
    "kernelspec": {
      "name": "python3",
      "display_name": "Python 3"
    },
    "language_info": {
      "name": "python"
    }
  },
  "cells": [
    {
      "cell_type": "markdown",
      "metadata": {
        "id": "view-in-github",
        "colab_type": "text"
      },
      "source": [
        "<a href=\"https://colab.research.google.com/github/iwatake2222/study_karaage_ai/blob/master/karaage_ai_02_01_webcamera.ipynb\" target=\"_parent\"><img src=\"https://colab.research.google.com/assets/colab-badge.svg\" alt=\"Open In Colab\"/></a>"
      ]
    },
    {
      "cell_type": "code",
      "metadata": {
        "id": "u5c_669qNuq-"
      },
      "source": [
        "!cp drive/MyDrive/my_model.h5 ."
      ],
      "execution_count": null,
      "outputs": []
    },
    {
      "cell_type": "code",
      "metadata": {
        "colab": {
          "base_uri": "https://localhost:8080/"
        },
        "id": "Ah78tJLLKbwM",
        "outputId": "9a1811ed-9523-427b-92c7-69c05927971d"
      },
      "source": [
        "%tensorflow_version 2.x\n",
        "import tensorflow as tf\n",
        "print(tf.__version__)\n",
        "\n",
        "from tensorflow.keras.preprocessing.image import img_to_array, load_img\n",
        "import numpy as np\n",
        "import time"
      ],
      "execution_count": null,
      "outputs": [
        {
          "output_type": "stream",
          "text": [
            "2.5.0\n"
          ],
          "name": "stdout"
        }
      ]
    },
    {
      "cell_type": "code",
      "metadata": {
        "colab": {
          "base_uri": "https://localhost:8080/"
        },
        "id": "11EuLnRGK9tx",
        "outputId": "9816d4c2-f61c-4b2e-f09b-24dad727b295"
      },
      "source": [
        "keras_model = tf.keras.models.load_model(\"my_model.h5\")\n",
        "keras_model.summary()"
      ],
      "execution_count": null,
      "outputs": [
        {
          "output_type": "stream",
          "text": [
            "Model: \"sequential_1\"\n",
            "_________________________________________________________________\n",
            "Layer (type)                 Output Shape              Param #   \n",
            "=================================================================\n",
            "conv2d_2 (Conv2D)            (None, 64, 64, 32)        896       \n",
            "_________________________________________________________________\n",
            "activation_4 (Activation)    (None, 64, 64, 32)        0         \n",
            "_________________________________________________________________\n",
            "conv2d_3 (Conv2D)            (None, 62, 62, 64)        18496     \n",
            "_________________________________________________________________\n",
            "activation_5 (Activation)    (None, 62, 62, 64)        0         \n",
            "_________________________________________________________________\n",
            "max_pooling2d_1 (MaxPooling2 (None, 31, 31, 64)        0         \n",
            "_________________________________________________________________\n",
            "dropout_2 (Dropout)          (None, 31, 31, 64)        0         \n",
            "_________________________________________________________________\n",
            "flatten_1 (Flatten)          (None, 61504)             0         \n",
            "_________________________________________________________________\n",
            "dense_2 (Dense)              (None, 128)               7872640   \n",
            "_________________________________________________________________\n",
            "activation_6 (Activation)    (None, 128)               0         \n",
            "_________________________________________________________________\n",
            "dropout_3 (Dropout)          (None, 128)               0         \n",
            "_________________________________________________________________\n",
            "dense_3 (Dense)              (None, 3)                 387       \n",
            "_________________________________________________________________\n",
            "activation_7 (Activation)    (None, 3)                 0         \n",
            "=================================================================\n",
            "Total params: 7,892,419\n",
            "Trainable params: 7,892,419\n",
            "Non-trainable params: 0\n",
            "_________________________________________________________________\n"
          ],
          "name": "stdout"
        }
      ]
    },
    {
      "cell_type": "code",
      "metadata": {
        "colab": {
          "base_uri": "https://localhost:8080/"
        },
        "id": "Cyn9GRyXLICE",
        "outputId": "7f53b0d5-6519-44cf-8ea3-92ac1076f357"
      },
      "source": [
        "labels = []\n",
        "with open(\"./labels.txt\", \"r\") as f:\n",
        "  for line in f:\n",
        "    labels.append(line.rstrip())\n",
        "print(labels)\n",
        "NUM_CLASSES = len(labels)"
      ],
      "execution_count": null,
      "outputs": [
        {
          "output_type": "stream",
          "text": [
            "['choki', 'gu', 'pa']\n"
          ],
          "name": "stdout"
        }
      ]
    },
    {
      "cell_type": "code",
      "metadata": {
        "id": "vhrL5ni-LSU3"
      },
      "source": [
        "!wget https://raw.githubusercontent.com/karaage0703/karaage-ai-book/master/util/colab_camera.py"
      ],
      "execution_count": null,
      "outputs": []
    },
    {
      "cell_type": "code",
      "metadata": {
        "id": "alS8r3ViLxj6"
      },
      "source": [
        "import colab_camera"
      ],
      "execution_count": null,
      "outputs": []
    },
    {
      "cell_type": "code",
      "metadata": {
        "id": "AvQzZG1BL3JW"
      },
      "source": [
        "import IPython\n",
        "from google.colab import output\n",
        "import cv2\n",
        "import numpy as np\n",
        "from PIL import Image\n",
        "from io import BytesIO\n",
        "import base64\n",
        "\n",
        "def run(img_str):\n",
        "  decimg = base64.b64decode(img_str.split(\",\")[1], validate=True)\n",
        "  decimg = Image.open(BytesIO(decimg))\n",
        "  decimg = np.array(decimg, dtype=np.uint8)\n",
        "  decimg = cv2.cvtColor(decimg, cv2.COLOR_BGR2RGB)\n",
        "\n",
        "  img = cv2.resize(decimg, (64, 64))\n",
        "  img = img_to_array(img)\n",
        "  img = img / 255.\n",
        "  img = img[np.newaxis]\n",
        "  img = np.asarray(img)\n",
        "  preds = keras_model.predict(img)\n",
        "  result = np.argmax(preds[0])\n",
        "\n",
        "  out_img = decimg\n",
        "  cv2.putText(out_img, labels[result], (10, 50), cv2.FONT_HERSHEY_SIMPLEX, 1, (0, 0, 255), 1, cv2.LINE_AA)\n",
        "\n",
        "  _, encimg = cv2.imencode(\".jpg\", out_img, [int(cv2.IMWRITE_JPEG_QUALITY), 80])\n",
        "  \n",
        "  img_str = encimg.tobytes()\n",
        "  img_str = (\"data:image/jpeg;base64,\" + base64.b64encode(img_str).decode('utf-8'))  \n",
        "  return IPython.display.JSON({\"img_str\": img_str})\n",
        "\n",
        "output.register_callback(\"notebook.run\", run)\n",
        "                     "
      ],
      "execution_count": null,
      "outputs": []
    },
    {
      "cell_type": "code",
      "metadata": {
        "id": "xI05NXCyMDtV"
      },
      "source": [
        "colab_camera.use_cam()"
      ],
      "execution_count": null,
      "outputs": []
    }
  ]
}