{
  "nbformat": 4,
  "nbformat_minor": 0,
  "metadata": {
    "colab": {
      "name": "karaage_ai_03_01_markov.ipynb",
      "provenance": [],
      "collapsed_sections": [],
      "authorship_tag": "ABX9TyMMYceEmfYYbT7YgovXdw+S",
      "include_colab_link": true
    },
    "kernelspec": {
      "name": "python3",
      "display_name": "Python 3"
    },
    "language_info": {
      "name": "python"
    }
  },
  "cells": [
    {
      "cell_type": "markdown",
      "metadata": {
        "id": "view-in-github",
        "colab_type": "text"
      },
      "source": [
        "<a href=\"https://colab.research.google.com/github/iwatake2222/study_karaage_ai/blob/master/karaage_ai_03_01_markov.ipynb\" target=\"_parent\"><img src=\"https://colab.research.google.com/assets/colab-badge.svg\" alt=\"Open In Colab\"/></a>"
      ]
    },
    {
      "cell_type": "code",
      "metadata": {
        "colab": {
          "base_uri": "https://localhost:8080/"
        },
        "id": "B-oxvzB49Uld",
        "outputId": "3f1653ef-e369-4a2d-c8a9-a166a83ee915"
      },
      "source": [
        "!wget https://github.com/aozorabunko/aozorabunko/raw/master/cards/000096/files/2093_ruby_28087.zip\n",
        "!unzip 2093_ruby_28087.zip"
      ],
      "execution_count": null,
      "outputs": [
        {
          "output_type": "stream",
          "text": [
            "--2021-07-11 14:26:50--  https://github.com/aozorabunko/aozorabunko/raw/master/cards/000096/files/2093_ruby_28087.zip\n",
            "Resolving github.com (github.com)... 140.82.113.3\n",
            "Connecting to github.com (github.com)|140.82.113.3|:443... connected.\n",
            "HTTP request sent, awaiting response... 302 Found\n",
            "Location: https://raw.githubusercontent.com/aozorabunko/aozorabunko/master/cards/000096/files/2093_ruby_28087.zip [following]\n",
            "--2021-07-11 14:26:50--  https://raw.githubusercontent.com/aozorabunko/aozorabunko/master/cards/000096/files/2093_ruby_28087.zip\n",
            "Resolving raw.githubusercontent.com (raw.githubusercontent.com)... 185.199.108.133, 185.199.109.133, 185.199.110.133, ...\n",
            "Connecting to raw.githubusercontent.com (raw.githubusercontent.com)|185.199.108.133|:443... connected.\n",
            "HTTP request sent, awaiting response... 200 OK\n",
            "Length: 421747 (412K) [application/zip]\n",
            "Saving to: ‘2093_ruby_28087.zip’\n",
            "\n",
            "2093_ruby_28087.zip 100%[===================>] 411.86K  --.-KB/s    in 0.02s   \n",
            "\n",
            "2021-07-11 14:26:51 (16.7 MB/s) - ‘2093_ruby_28087.zip’ saved [421747/421747]\n",
            "\n",
            "Archive:  2093_ruby_28087.zip\n",
            "Made with MacWinZipper™\n",
            "  inflating: dogura_magura.txt       \n"
          ],
          "name": "stdout"
        }
      ]
    },
    {
      "cell_type": "code",
      "metadata": {
        "colab": {
          "base_uri": "https://localhost:8080/"
        },
        "id": "EtTVx_Wz9my2",
        "outputId": "5066366c-5933-436c-d926-1f812dbd168f"
      },
      "source": [
        "!pip install janome"
      ],
      "execution_count": null,
      "outputs": [
        {
          "output_type": "stream",
          "text": [
            "Collecting janome\n",
            "\u001b[?25l  Downloading https://files.pythonhosted.org/packages/a8/63/98858cbead27df7536c7e300c169da0999e9704d02220dc6700b804eeff0/Janome-0.4.1-py2.py3-none-any.whl (19.7MB)\n",
            "\u001b[K     |████████████████████████████████| 19.7MB 6.3MB/s \n",
            "\u001b[?25hInstalling collected packages: janome\n",
            "Successfully installed janome-0.4.1\n"
          ],
          "name": "stdout"
        }
      ]
    },
    {
      "cell_type": "code",
      "metadata": {
        "id": "zfquU1HW9pl6"
      },
      "source": [
        "import re\n",
        "\n",
        "def normalize_text(text):\n",
        "  text = re.sub(r\"それ\", \"\", text)\n",
        "  text = re.sub(r\"よう\", \"\", text)\n",
        "  text = re.sub(r\"もの\", \"\", text)\n",
        "  text = re.sub(r\"これ\", \"\", text)\n",
        "  text = re.sub(r\"うち\", \"\", text)\n",
        "  text = re.sub(r\"ここ\", \"\", text)\n",
        "  text = re.sub(r\"こと\", \"\", text)\n",
        "  text = re.sub(r\"もの\", \"\", text)\n",
        "  text = re.sub(r\"そう\", \"\", text)\n",
        "  text = re.sub(r\"\\n\", \"\", text)\n",
        "  text = text.strip()\n",
        "  return text\n",
        "\n",
        "text_list = []\n",
        "with open(\"dogura_magura.txt\", encoding=\"shift_jis\") as f:\n",
        "  text_list = f.readlines()\n",
        "new_text_list = []\n",
        "for text in text_list:\n",
        "  new_text_list.append(normalize_text(text))\n",
        "text_list = new_text_list"
      ],
      "execution_count": null,
      "outputs": []
    },
    {
      "cell_type": "code",
      "metadata": {
        "id": "LR7LgDZj9_an"
      },
      "source": [
        "from janome.tokenizer import Tokenizer\n",
        "\n",
        "def wakachigaki(text_list):\n",
        "  t = Tokenizer()\n",
        "  words = []\n",
        "  for text in text_list:\n",
        "    tokens = t.tokenize(text)\n",
        "    for token in tokens:\n",
        "      pos = token.part_of_speech.split(\",\")[0]\n",
        "      # if pos == \"名詞\":\n",
        "      words.append(token.surface)\n",
        "  text =\" \".join(words)\n",
        "  return text"
      ],
      "execution_count": null,
      "outputs": []
    },
    {
      "cell_type": "code",
      "metadata": {
        "colab": {
          "base_uri": "https://localhost:8080/"
        },
        "id": "fS_X3yh6-Jvh",
        "outputId": "750a19fe-7fea-4194-bb0b-8e0d7e72f894"
      },
      "source": [
        "word_list = [w for w in wakachigaki(text_list).split()]\n",
        "word_list[0:10]"
      ],
      "execution_count": null,
      "outputs": [
        {
          "output_type": "execute_result",
          "data": {
            "text/plain": [
              "['ドグラ・マグラ',\n",
              " '夢野',\n",
              " '久作',\n",
              " '-------------------------------------------------------',\n",
              " '【',\n",
              " 'テキスト',\n",
              " '中',\n",
              " 'に',\n",
              " '現れる',\n",
              " '記号']"
            ]
          },
          "metadata": {
            "tags": []
          },
          "execution_count": 51
        }
      ]
    },
    {
      "cell_type": "code",
      "metadata": {
        "colab": {
          "base_uri": "https://localhost:8080/"
        },
        "id": "2erE1KWQ-sWl",
        "outputId": "30a42487-f23b-494b-8fa3-816445cf5c46"
      },
      "source": [
        "test_text = [\"私はからあげが好きだ。君はからあげを食べる。私はおやつが好きだ。\"]\n",
        "test_text = wakachigaki(test_text)\n",
        "test_text = test_text.replace(\"から あげ\", \"からあげ\")\n",
        "test_text = test_text.replace(\"お やつ\", \"おやつ\")\n",
        "test_word_list = [w for w in test_text.split()]\n",
        "test_word_list"
      ],
      "execution_count": null,
      "outputs": [
        {
          "output_type": "execute_result",
          "data": {
            "text/plain": [
              "['私',\n",
              " 'は',\n",
              " 'からあげ',\n",
              " 'が',\n",
              " '好き',\n",
              " 'だ',\n",
              " '。',\n",
              " '君',\n",
              " 'は',\n",
              " 'からあげ',\n",
              " 'を',\n",
              " '食べる',\n",
              " '。',\n",
              " '私',\n",
              " 'は',\n",
              " 'おやつ',\n",
              " 'が',\n",
              " '好き',\n",
              " 'だ',\n",
              " '。']"
            ]
          },
          "metadata": {
            "tags": []
          },
          "execution_count": 31
        }
      ]
    },
    {
      "cell_type": "code",
      "metadata": {
        "id": "C1iEAJi3ACMB"
      },
      "source": [
        "def make_markov_model_1(word_list):\n",
        "  markov = {}\n",
        "  w1 = \"\"\n",
        "  for word in word_list:\n",
        "    if w1:\n",
        "      if w1 not in markov:\n",
        "        markov[w1] = []\n",
        "      markov[w1].append(word)\n",
        "    w1 = word\n",
        "  return markov"
      ],
      "execution_count": null,
      "outputs": []
    },
    {
      "cell_type": "code",
      "metadata": {
        "colab": {
          "base_uri": "https://localhost:8080/"
        },
        "id": "rKJIRN7-AG-m",
        "outputId": "1b094097-29e8-4361-b7f7-336859839c09"
      },
      "source": [
        "markov_model_test_1 = make_markov_model_1(test_word_list)"
      ],
      "execution_count": null,
      "outputs": [
        {
          "output_type": "execute_result",
          "data": {
            "text/plain": [
              "{'。': ['君', '私'],\n",
              " 'おやつ': ['が'],\n",
              " 'からあげ': ['が', 'を'],\n",
              " 'が': ['好き', '好き'],\n",
              " 'だ': ['。', '。'],\n",
              " 'は': ['からあげ', 'からあげ', 'おやつ'],\n",
              " 'を': ['食べる'],\n",
              " '君': ['は'],\n",
              " '好き': ['だ', 'だ'],\n",
              " '私': ['は', 'は'],\n",
              " '食べる': ['。']}"
            ]
          },
          "metadata": {
            "tags": []
          },
          "execution_count": 42
        }
      ]
    },
    {
      "cell_type": "code",
      "metadata": {
        "colab": {
          "base_uri": "https://localhost:8080/"
        },
        "id": "RB2x1ToLA4Xd",
        "outputId": "5a526dae-2bce-42d0-d39f-585048485ed3"
      },
      "source": [
        "def check_model(model, check_numb=10):\n",
        "  count = 0\n",
        "  for key in model.keys():\n",
        "    if count >= 0:\n",
        "      print(\"key:\", key)\n",
        "      print(\"value:\", model[key])\n",
        "      print(\"----------------\")\n",
        "    count += 1\n",
        "    if count > check_numb:\n",
        "      break\n",
        "check_model(markov_model_test_1)"
      ],
      "execution_count": null,
      "outputs": [
        {
          "output_type": "stream",
          "text": [
            "key: 私\n",
            "value: ['は', 'は']\n",
            "----------------\n",
            "key: は\n",
            "value: ['からあげ', 'からあげ', 'おやつ']\n",
            "----------------\n",
            "key: からあげ\n",
            "value: ['が', 'を']\n",
            "----------------\n",
            "key: が\n",
            "value: ['好き', '好き']\n",
            "----------------\n",
            "key: 好き\n",
            "value: ['だ', 'だ']\n",
            "----------------\n",
            "key: だ\n",
            "value: ['。', '。']\n",
            "----------------\n",
            "key: 。\n",
            "value: ['君', '私']\n",
            "----------------\n",
            "key: 君\n",
            "value: ['は']\n",
            "----------------\n",
            "key: を\n",
            "value: ['食べる']\n",
            "----------------\n",
            "key: 食べる\n",
            "value: ['。']\n",
            "----------------\n",
            "key: おやつ\n",
            "value: ['が']\n",
            "----------------\n"
          ],
          "name": "stdout"
        }
      ]
    },
    {
      "cell_type": "code",
      "metadata": {
        "id": "HYE-p70SB3aR"
      },
      "source": [
        "def make_markov_model_2(word_list):\n",
        "  markov = {}\n",
        "  w1 = \"\"\n",
        "  w2 = \"\"\n",
        "  for word in word_list:\n",
        "    if w1 and w2:\n",
        "      if (w1, w2) not in markov:\n",
        "        markov[(w1, w2)] = []\n",
        "      markov[(w1, w2)].append(word)\n",
        "    w1, w2 = w2, word\n",
        "  return markov"
      ],
      "execution_count": null,
      "outputs": []
    },
    {
      "cell_type": "code",
      "metadata": {
        "colab": {
          "base_uri": "https://localhost:8080/"
        },
        "id": "6yhnX5oKCF1h",
        "outputId": "abdda30c-9145-4d38-b231-6e44fb090284"
      },
      "source": [
        "markov_model_2 = make_markov_model_2(word_list)\n",
        "check_model(markov_model_2, 20)"
      ],
      "execution_count": null,
      "outputs": [
        {
          "output_type": "stream",
          "text": [
            "key: ('ドグラ・マグラ', '夢野')\n",
            "value: ['久作']\n",
            "----------------\n",
            "key: ('夢野', '久作')\n",
            "value: ['-------------------------------------------------------', '全集']\n",
            "----------------\n",
            "key: ('久作', '-------------------------------------------------------')\n",
            "value: ['【']\n",
            "----------------\n",
            "key: ('-------------------------------------------------------', '【')\n",
            "value: ['テキスト']\n",
            "----------------\n",
            "key: ('【', 'テキスト')\n",
            "value: ['中']\n",
            "----------------\n",
            "key: ('テキスト', '中')\n",
            "value: ['に']\n",
            "----------------\n",
            "key: ('中', 'に')\n",
            "value: ['現れる', 'ハッキリ', '、', '、', '走り込み', 'ヨボヨボ', '含ま', 'は', '納まっ', '凝固', 'ゴチャゴチャ', '落ち', '、', '追い込ん', '映っ', '突立', '、', '誘い込ん', '湧き', '落し', '並ん', 'は', '封じ込め', '、', '一つ', '、', 'は', '盛込ま', '、', '記述', '記述', '陳列', '含ま', '、', '潜伏', '引寄', 'タッタ', '含ま', 'は', 'は', '摘発', '、', '…', 'は', '落し', '胚胎', '尊', '。', 'は', 'も', '公', '並ぶ', 'は', '交', 'さま', '重なる', '。', '居る', 'トグロ', '立て', '立ち止まっ', '発見', '宿っ', '在る', '呼吸', '、', 'ホッ', '、', '、', '葬り', '立往生', '詰めかけ', 'は', '引っ', 'も', '平等', '往々', '、', '見知っ', 'は', '、', '潜在', '寝', '潜在', '包み込ん', '現われ', '含ま', '咲く', '辛', '刺', '落付', '蝨', 'サッと', '留め', '含ま', 'は', '並べ立て', '据え', 'は', '突込', 'は', 'は', '、', 'は', '居る', '居る', '立ち', 'ベタ', 'も', '、', '現われ', '、', 'は', '隠れ', 'は', '息', '盛ら', '、', '潜ん', '納まっ', '一', 'も', '潜ん', 'も', 'は', '絶世', '無理やり', 'ソッ', '納め', '納め', 'も', '恭しく', 'は', '抛', '挿入', '違い', '這入っ', 'は', 'は', 'お前', '或', '感じ', '進行', '感ぜ', '於', '於', '於', '属すれ', '於', 'も', '発見', 'も', 'も', '詳論', '、', '口', '包含', '分離', '発露', '行い', '、', '含ま', 'は', '若旦那', 'ダラダラ', '美', '、', '唯', '投じ', '、', 'も', 'は', 'は', '、', 'は', 'は', 'クルクル', 'は', '一', '私', 'ヤッコラサ', '仕掛け', '、', '逃げ込ん', '書い', '額', '…', 'いる', '自分', '含ま', '大きな', '満ち', 'は', '、', '持っ', '姿', 'ジッ', '人', '封じ込め', '、', '立ち上っ', '集中', '光っ', '、', '、', '、', 'は', '屈', '、', 'は', '含ま', '残っ', '、', 'わかる', '小さく', '、', '描き', '、', '取入れ', '怪しい', '、', 'は', 'は', '厳存', '在る', '、', '渦巻か', '又', 'は', '幾度', '、', '鬱積', '跼', '響き', '閃', '固まり合っ', '顕現', 'ノタ', '閃', '一', '描い', '、', '正木', 'は', '声', 'は', '誰', '這入っ', '浮き出し']\n",
            "----------------\n",
            "key: ('に', '現れる')\n",
            "value: ['記号']\n",
            "----------------\n",
            "key: ('現れる', '記号')\n",
            "value: ['について']\n",
            "----------------\n",
            "key: ('記号', 'について')\n",
            "value: ['】']\n",
            "----------------\n",
            "key: ('について', '】')\n",
            "value: ['《']\n",
            "----------------\n",
            "key: ('】', '《')\n",
            "value: ['》']\n",
            "----------------\n",
            "key: ('《', '》')\n",
            "value: ['：', 'に', 'で', 'の', 'に', 'に', 'に', 'に', 'に', 'の', 'に', 'は', 'に', 'に', 'に', 'で', 'で', 'に', 'だっ', 'へ', '発表', 'なら', 'に', 'に', 'に', '中', 'で', 'に', 'に', 'に', 'に', 'に', 'に', 'に', 'に', 'で', 'に', 'で', 'の', 'は', 'に', 'に', 'に', 'に', 'に', 'に', 'に', 'を', 'に', 'を', 'の', 'に', 'に', 'に', 'の', 'に', 'に', 'に', 'で', 'でも', 'も', 'を', 'に', 'に', 'に', 'の', 'の', 'から', 'に', 'へ', 'に', 'に', 'を', 'に', 'を', 'に', 'に', 'に', 'の', 'に', 'に', 'の', 'の', 'で', 'へ', 'に', 'に', 'に', 'に', 'に', 'に', 'に', 'に', 'に', 'から', 'で', 'で', 'に', 'に', 'で', 'から', 'に', 'を', 'に', 'に', 'に', 'の', 'に', 'に', 'が', 'に', 'に', 'で', 'に', 'で', 'に', '、', '当地', 'に', 'に']\n",
            "----------------\n",
            "key: ('》', '：')\n",
            "value: ['ルビ']\n",
            "----------------\n",
            "key: ('：', 'ルビ')\n",
            "value: ['（', 'の']\n",
            "----------------\n",
            "key: ('ルビ', '（')\n",
            "value: ['例']\n",
            "----------------\n",
            "key: ('（', '例')\n",
            "value: ['）', '）', '）※［＃', '）', '）']\n",
            "----------------\n",
            "key: ('例', '）')\n",
            "value: ['蜜蜂', '大の字', '五', 'やう']\n",
            "----------------\n",
            "key: ('）', '蜜蜂')\n",
            "value: ['《']\n",
            "----------------\n",
            "key: ('蜜蜂', '《')\n",
            "value: ['みつば', 'みつば']\n",
            "----------------\n",
            "key: ('《', 'みつば')\n",
            "value: ['ち', 'ち']\n",
            "----------------\n"
          ],
          "name": "stdout"
        }
      ]
    },
    {
      "cell_type": "code",
      "metadata": {
        "id": "572vrtHVDJ-5"
      },
      "source": [
        "import random\n",
        "\n",
        "def generate_text_2(model, max_sentence):\n",
        "  count_sentence = 0\n",
        "  sentence = \"\"\n",
        "  w1, w2 = random.choice(list(model.keys()))\n",
        "  while count_sentence < max_sentence:\n",
        "    try:\n",
        "      tmp = random.choice(model[w1, w2])\n",
        "      sentence += tmp\n",
        "      if tmp == \"。\":\n",
        "        count_sentence += 1\n",
        "        sentence += \"\\n\"\n",
        "      w1, w2 = w2, tmp\n",
        "    except:\n",
        "      w1, w2 = random.choice(list(model.keys()))\n",
        "  return sentence"
      ],
      "execution_count": null,
      "outputs": []
    },
    {
      "cell_type": "code",
      "metadata": {
        "colab": {
          "base_uri": "https://localhost:8080/"
        },
        "id": "5e6_NGa-CF-J",
        "outputId": "53e0337e-7f10-471f-a3e7-6372c10ddb43"
      },
      "source": [
        "print(generate_text_2(markov_model_2, 10))"
      ],
      "execution_count": null,
      "outputs": [
        {
          "output_type": "stream",
          "text": [
            "の就寝後三十男を失恋自殺者、行路病者なぞの一切合財は、その原理から生れて来る額の禿《はなれ》で、父の御門《みかど》か賭博《ば》れてしまって、眼も当てられぬ患者もある位です。\n",
            "現に当大学の名前を………のみならずＴ子の身代りとなっている私を憫《あわ》せ持って来いの第一頁ごとに赤《あたかという、玄宗皇帝というおやじ［＃「おやじ」に傍点］呉八代子の娘を遣るか』という精神病理学から観察した治療法というは、そんな事は知らぬか……なぞとは夢にも思いつきませんでした妾は、今話した「脳髄は物を供え、屍鬼をば、昨今の唯物文化の世界に浮いている無量無数に在って、声を上げた。\n",
            "やがて明るい、美しい街筋に走り込んだ……又、思い出したな自己意識も、したな気持になり、汝空を翹《かけら》めいた。\n",
            "しているから、私共も、現在の気持になっている細胞自身の現実の意識の中の硝子《ガラス》窓の外の霧を見ると又、実際のところＷとＭの二重人格の高かった斎藤博士の姿に似合わない、下らない習慣が、こんな不平を云わせたいのだろうとする心理遺伝によって演出されたでしたが、君を突き合わせて、この事件は大抵写して御座る事を察するを得ませぬが、にしてタッタ今地上に最初に映写し出された意識や、又は細い煙の中の二階に誘いをかけ、結跏趺座《けっかふざ》し男と戯れるところ……ブ――――――各種の遺跡によって推定するという事になった扉が。\n",
            "日進月歩で開けて来る」と云うて、一層｜急《せ》の格言のあらわれではあるが…………よく御覧になりませぬので……いいかい。\n",
            "フーム……ボ――ン……チャカポコチャカポコ……又は全然、性質は念のために、そのな表面的の知識が欠けているのじゃないかは知らず……したら、その頬の色がスーと消え失せてしまった。\n",
            "第一箇条になったのである。\n",
            "その強敵Ｗは『Ｗ』も、実際の進化した名誉慾だ。\n",
            "すなわち若林君は………が併《しか》る瀬《せ》き声が、あの畠の縁に着陸致しますと。\n",
            "数をつくして、眼科の田西博士と私の力が尽きた。\n",
            "\n"
          ],
          "name": "stdout"
        }
      ]
    },
    {
      "cell_type": "code",
      "metadata": {
        "id": "rW_smwlOENCo"
      },
      "source": [
        "def make_markov_model_5(word_list):\n",
        "  markov = {}\n",
        "  w1 = \"\"\n",
        "  w2 = \"\"\n",
        "  w3 = \"\"\n",
        "  w4 = \"\"\n",
        "  w5 = \"\"\n",
        "  for word in word_list:\n",
        "    if w1 and w2 and w3 and w4 and w5:\n",
        "      if (w1, w2, w3, w4, w5) not in markov:\n",
        "        markov[(w1, w2, w3, w4, w5)] = []\n",
        "      markov[(w1, w2, w3, w4, w5)].append(word)\n",
        "    w1, w2, w3, w4, w5 = w2, w3, w4, w5, word\n",
        "  return markov"
      ],
      "execution_count": null,
      "outputs": []
    },
    {
      "cell_type": "code",
      "metadata": {
        "id": "DotR-3bkEedK"
      },
      "source": [
        "import random\n",
        "\n",
        "def generate_text_5(model, max_sentence):\n",
        "  count_sentence = 0\n",
        "  sentence = \"\"\n",
        "  w1, w2, w3, w4, w5 = random.choice(list(model.keys()))\n",
        "  while count_sentence < max_sentence:\n",
        "    try:\n",
        "      tmp = random.choice(model[w1, w2, w3, w4, w5])\n",
        "      sentence += tmp\n",
        "      if tmp == \"。\":\n",
        "        count_sentence += 1\n",
        "        sentence += \"\\n\"\n",
        "      w1, w2, w3, w4, w5 = w2, w3, w4, w5, tmp\n",
        "    except:\n",
        "      # print(\"retry\")\n",
        "      w1, w2, w3, w4, w5 = random.choice(list(model.keys()))\n",
        "  return sentence"
      ],
      "execution_count": null,
      "outputs": []
    },
    {
      "cell_type": "code",
      "metadata": {
        "colab": {
          "base_uri": "https://localhost:8080/"
        },
        "id": "gBJqEplHEwW0",
        "outputId": "324e74ea-3e72-402b-d232-63d7f168fdf4"
      },
      "source": [
        "markov_model_5 = make_markov_model_5(word_list)\n",
        "print(generate_text_5(markov_model_5, 10))"
      ],
      "execution_count": null,
      "outputs": [
        {
          "output_type": "stream",
          "text": [
            "下になっている腕時計を見ますと、もう向うを向いて布団に潜っていて、櫛巻《くしま》きの頭だけしか見えませんでした。\n",
            "――往来は眩《まぶ》しい緑色の中に、ツイ今しがた発見した黒い、留針《ピン》の頭ほどの焼け焦《こ》げ臭いにおいを嗅ぎ付けたに違いないのだ。\n",
            "その子のＩに『お前が大学校を卒業する迄、私が無事でいたら、何もかも話して上げる』と云ったのは……イッタイいつの事だね……」呉一郎は、でも何かしら不安に鍬の上げ下げを凝視していたという。\n",
            "しかもその時は既に半分呉青秀、半分は呉一郎の気持ちでいたと推定されているからね。\n",
            "まして況《いわ》んや若林博士のな特殊な体質と頭脳を持った人間が、斯様《か》な不誠意を極めた屍体解剖を試みるのであろうか……と驚き迷い、呆れつつ若林博士の蒼白い顔と、額縁の中の斎藤博士の微笑とを交《かわ》る交る見比べた。\n",
            "そんなにまで人格の高い立派な人が、何で変死なんかしたんだろうと疑いながら……。\n",
            "しかし正木博士はビクともしない覚悟と方針とを考えまわしつつ……何ともいえず息苦しい、不可思議な昂奮に囚《とら》われた一つの驚くべき惨劇を演出しました。\n",
            "してから見えます、あの三ツ並んだ土蔵《おくら》の方角を指さして見せながら、片手をオモヨさんの肩にかけて、二三度ゆすぶられますと、最前から火のに赤うなって身体《からだ》中がゾクゾクと寒気立《さむけだっ》て来たなので気がついて見ると、私の頭の中一パイにコダワっていた疑問だの、迷いだの、驚ろきだのいうが、みるみるにスースーと頭の中から蒸発して行った。\n",
            "して北側の窓の処まで持って行って風呂敷をハタイた。\n",
            "「……くり返して申しますが、その五代前の祖先、すなわちこの儀作の曾々祖父に当ります者は、福岡の御城下、鳥飼《とりかい》村に居りました名高い豪農で、同名｜儀十《ぎじゅう》と申す者で御座いました。\n",
            "\n"
          ],
          "name": "stdout"
        }
      ]
    }
  ]
}