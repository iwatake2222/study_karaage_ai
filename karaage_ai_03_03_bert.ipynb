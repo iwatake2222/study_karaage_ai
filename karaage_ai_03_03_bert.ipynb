{
  "nbformat": 4,
  "nbformat_minor": 0,
  "metadata": {
    "colab": {
      "name": "karaage_ai_03_03_bert.ipynb",
      "provenance": [],
      "collapsed_sections": [],
      "authorship_tag": "ABX9TyOvygaB1IrVA/IVPeVM8Bz+",
      "include_colab_link": true
    },
    "kernelspec": {
      "name": "python3",
      "display_name": "Python 3"
    },
    "language_info": {
      "name": "python"
    },
    "accelerator": "GPU",
    "widgets": {
      "application/vnd.jupyter.widget-state+json": {
        "7e13f5a1823949f294be42f13beffebe": {
          "model_module": "@jupyter-widgets/controls",
          "model_name": "HBoxModel",
          "state": {
            "_view_name": "HBoxView",
            "_dom_classes": [],
            "_model_name": "HBoxModel",
            "_view_module": "@jupyter-widgets/controls",
            "_model_module_version": "1.5.0",
            "_view_count": null,
            "_view_module_version": "1.5.0",
            "box_style": "",
            "layout": "IPY_MODEL_4c595482e4b942e9842cb21be597f9e4",
            "_model_module": "@jupyter-widgets/controls",
            "children": [
              "IPY_MODEL_ad47cee8db2142d9b57485ff4d97e72d",
              "IPY_MODEL_8bae242257084662a737cf51282122ee"
            ]
          }
        },
        "4c595482e4b942e9842cb21be597f9e4": {
          "model_module": "@jupyter-widgets/base",
          "model_name": "LayoutModel",
          "state": {
            "_view_name": "LayoutView",
            "grid_template_rows": null,
            "right": null,
            "justify_content": null,
            "_view_module": "@jupyter-widgets/base",
            "overflow": null,
            "_model_module_version": "1.2.0",
            "_view_count": null,
            "flex_flow": null,
            "width": null,
            "min_width": null,
            "border": null,
            "align_items": null,
            "bottom": null,
            "_model_module": "@jupyter-widgets/base",
            "top": null,
            "grid_column": null,
            "overflow_y": null,
            "overflow_x": null,
            "grid_auto_flow": null,
            "grid_area": null,
            "grid_template_columns": null,
            "flex": null,
            "_model_name": "LayoutModel",
            "justify_items": null,
            "grid_row": null,
            "max_height": null,
            "align_content": null,
            "visibility": null,
            "align_self": null,
            "height": null,
            "min_height": null,
            "padding": null,
            "grid_auto_rows": null,
            "grid_gap": null,
            "max_width": null,
            "order": null,
            "_view_module_version": "1.2.0",
            "grid_template_areas": null,
            "object_position": null,
            "object_fit": null,
            "grid_auto_columns": null,
            "margin": null,
            "display": null,
            "left": null
          }
        },
        "ad47cee8db2142d9b57485ff4d97e72d": {
          "model_module": "@jupyter-widgets/controls",
          "model_name": "FloatProgressModel",
          "state": {
            "_view_name": "ProgressView",
            "style": "IPY_MODEL_34a193c1a2d7414d95acd1241f317e23",
            "_dom_classes": [],
            "description": "Downloading: 100%",
            "_model_name": "FloatProgressModel",
            "bar_style": "success",
            "max": 257706,
            "_view_module": "@jupyter-widgets/controls",
            "_model_module_version": "1.5.0",
            "value": 257706,
            "_view_count": null,
            "_view_module_version": "1.5.0",
            "orientation": "horizontal",
            "min": 0,
            "description_tooltip": null,
            "_model_module": "@jupyter-widgets/controls",
            "layout": "IPY_MODEL_fc9ef7d4f569414e854acf9d345704b1"
          }
        },
        "8bae242257084662a737cf51282122ee": {
          "model_module": "@jupyter-widgets/controls",
          "model_name": "HTMLModel",
          "state": {
            "_view_name": "HTMLView",
            "style": "IPY_MODEL_2703d2357e0345b0a78e36294033d858",
            "_dom_classes": [],
            "description": "",
            "_model_name": "HTMLModel",
            "placeholder": "​",
            "_view_module": "@jupyter-widgets/controls",
            "_model_module_version": "1.5.0",
            "value": " 258k/258k [00:01&lt;00:00, 201kB/s]",
            "_view_count": null,
            "_view_module_version": "1.5.0",
            "description_tooltip": null,
            "_model_module": "@jupyter-widgets/controls",
            "layout": "IPY_MODEL_be93e339120443e5a97c7c24e4988bab"
          }
        },
        "34a193c1a2d7414d95acd1241f317e23": {
          "model_module": "@jupyter-widgets/controls",
          "model_name": "ProgressStyleModel",
          "state": {
            "_view_name": "StyleView",
            "_model_name": "ProgressStyleModel",
            "description_width": "initial",
            "_view_module": "@jupyter-widgets/base",
            "_model_module_version": "1.5.0",
            "_view_count": null,
            "_view_module_version": "1.2.0",
            "bar_color": null,
            "_model_module": "@jupyter-widgets/controls"
          }
        },
        "fc9ef7d4f569414e854acf9d345704b1": {
          "model_module": "@jupyter-widgets/base",
          "model_name": "LayoutModel",
          "state": {
            "_view_name": "LayoutView",
            "grid_template_rows": null,
            "right": null,
            "justify_content": null,
            "_view_module": "@jupyter-widgets/base",
            "overflow": null,
            "_model_module_version": "1.2.0",
            "_view_count": null,
            "flex_flow": null,
            "width": null,
            "min_width": null,
            "border": null,
            "align_items": null,
            "bottom": null,
            "_model_module": "@jupyter-widgets/base",
            "top": null,
            "grid_column": null,
            "overflow_y": null,
            "overflow_x": null,
            "grid_auto_flow": null,
            "grid_area": null,
            "grid_template_columns": null,
            "flex": null,
            "_model_name": "LayoutModel",
            "justify_items": null,
            "grid_row": null,
            "max_height": null,
            "align_content": null,
            "visibility": null,
            "align_self": null,
            "height": null,
            "min_height": null,
            "padding": null,
            "grid_auto_rows": null,
            "grid_gap": null,
            "max_width": null,
            "order": null,
            "_view_module_version": "1.2.0",
            "grid_template_areas": null,
            "object_position": null,
            "object_fit": null,
            "grid_auto_columns": null,
            "margin": null,
            "display": null,
            "left": null
          }
        },
        "2703d2357e0345b0a78e36294033d858": {
          "model_module": "@jupyter-widgets/controls",
          "model_name": "DescriptionStyleModel",
          "state": {
            "_view_name": "StyleView",
            "_model_name": "DescriptionStyleModel",
            "description_width": "",
            "_view_module": "@jupyter-widgets/base",
            "_model_module_version": "1.5.0",
            "_view_count": null,
            "_view_module_version": "1.2.0",
            "_model_module": "@jupyter-widgets/controls"
          }
        },
        "be93e339120443e5a97c7c24e4988bab": {
          "model_module": "@jupyter-widgets/base",
          "model_name": "LayoutModel",
          "state": {
            "_view_name": "LayoutView",
            "grid_template_rows": null,
            "right": null,
            "justify_content": null,
            "_view_module": "@jupyter-widgets/base",
            "overflow": null,
            "_model_module_version": "1.2.0",
            "_view_count": null,
            "flex_flow": null,
            "width": null,
            "min_width": null,
            "border": null,
            "align_items": null,
            "bottom": null,
            "_model_module": "@jupyter-widgets/base",
            "top": null,
            "grid_column": null,
            "overflow_y": null,
            "overflow_x": null,
            "grid_auto_flow": null,
            "grid_area": null,
            "grid_template_columns": null,
            "flex": null,
            "_model_name": "LayoutModel",
            "justify_items": null,
            "grid_row": null,
            "max_height": null,
            "align_content": null,
            "visibility": null,
            "align_self": null,
            "height": null,
            "min_height": null,
            "padding": null,
            "grid_auto_rows": null,
            "grid_gap": null,
            "max_width": null,
            "order": null,
            "_view_module_version": "1.2.0",
            "grid_template_areas": null,
            "object_position": null,
            "object_fit": null,
            "grid_auto_columns": null,
            "margin": null,
            "display": null,
            "left": null
          }
        },
        "44f1e4f0934248398ddf45432777ac0b": {
          "model_module": "@jupyter-widgets/controls",
          "model_name": "HBoxModel",
          "state": {
            "_view_name": "HBoxView",
            "_dom_classes": [],
            "_model_name": "HBoxModel",
            "_view_module": "@jupyter-widgets/controls",
            "_model_module_version": "1.5.0",
            "_view_count": null,
            "_view_module_version": "1.5.0",
            "box_style": "",
            "layout": "IPY_MODEL_b7c8f5e702c242c6b20757e83f1f2f71",
            "_model_module": "@jupyter-widgets/controls",
            "children": [
              "IPY_MODEL_43d8ef74218c4d4989b27c6cb20b1156",
              "IPY_MODEL_bf172dcf5d5e49578e4e4205aac1dfd5"
            ]
          }
        },
        "b7c8f5e702c242c6b20757e83f1f2f71": {
          "model_module": "@jupyter-widgets/base",
          "model_name": "LayoutModel",
          "state": {
            "_view_name": "LayoutView",
            "grid_template_rows": null,
            "right": null,
            "justify_content": null,
            "_view_module": "@jupyter-widgets/base",
            "overflow": null,
            "_model_module_version": "1.2.0",
            "_view_count": null,
            "flex_flow": null,
            "width": null,
            "min_width": null,
            "border": null,
            "align_items": null,
            "bottom": null,
            "_model_module": "@jupyter-widgets/base",
            "top": null,
            "grid_column": null,
            "overflow_y": null,
            "overflow_x": null,
            "grid_auto_flow": null,
            "grid_area": null,
            "grid_template_columns": null,
            "flex": null,
            "_model_name": "LayoutModel",
            "justify_items": null,
            "grid_row": null,
            "max_height": null,
            "align_content": null,
            "visibility": null,
            "align_self": null,
            "height": null,
            "min_height": null,
            "padding": null,
            "grid_auto_rows": null,
            "grid_gap": null,
            "max_width": null,
            "order": null,
            "_view_module_version": "1.2.0",
            "grid_template_areas": null,
            "object_position": null,
            "object_fit": null,
            "grid_auto_columns": null,
            "margin": null,
            "display": null,
            "left": null
          }
        },
        "43d8ef74218c4d4989b27c6cb20b1156": {
          "model_module": "@jupyter-widgets/controls",
          "model_name": "FloatProgressModel",
          "state": {
            "_view_name": "ProgressView",
            "style": "IPY_MODEL_bd33cadfba1d4c8bb73f7a84d4c4ed2a",
            "_dom_classes": [],
            "description": "Downloading: 100%",
            "_model_name": "FloatProgressModel",
            "bar_style": "success",
            "max": 110,
            "_view_module": "@jupyter-widgets/controls",
            "_model_module_version": "1.5.0",
            "value": 110,
            "_view_count": null,
            "_view_module_version": "1.5.0",
            "orientation": "horizontal",
            "min": 0,
            "description_tooltip": null,
            "_model_module": "@jupyter-widgets/controls",
            "layout": "IPY_MODEL_fafa9ad2b03c478f90752e6fcded11c1"
          }
        },
        "bf172dcf5d5e49578e4e4205aac1dfd5": {
          "model_module": "@jupyter-widgets/controls",
          "model_name": "HTMLModel",
          "state": {
            "_view_name": "HTMLView",
            "style": "IPY_MODEL_6c774626b7d046b7b0b5dfbb817fee3f",
            "_dom_classes": [],
            "description": "",
            "_model_name": "HTMLModel",
            "placeholder": "​",
            "_view_module": "@jupyter-widgets/controls",
            "_model_module_version": "1.5.0",
            "value": " 110/110 [03:41&lt;00:00, 2.01s/B]",
            "_view_count": null,
            "_view_module_version": "1.5.0",
            "description_tooltip": null,
            "_model_module": "@jupyter-widgets/controls",
            "layout": "IPY_MODEL_f70fee08fd754d44baef39fb00cf1769"
          }
        },
        "bd33cadfba1d4c8bb73f7a84d4c4ed2a": {
          "model_module": "@jupyter-widgets/controls",
          "model_name": "ProgressStyleModel",
          "state": {
            "_view_name": "StyleView",
            "_model_name": "ProgressStyleModel",
            "description_width": "initial",
            "_view_module": "@jupyter-widgets/base",
            "_model_module_version": "1.5.0",
            "_view_count": null,
            "_view_module_version": "1.2.0",
            "bar_color": null,
            "_model_module": "@jupyter-widgets/controls"
          }
        },
        "fafa9ad2b03c478f90752e6fcded11c1": {
          "model_module": "@jupyter-widgets/base",
          "model_name": "LayoutModel",
          "state": {
            "_view_name": "LayoutView",
            "grid_template_rows": null,
            "right": null,
            "justify_content": null,
            "_view_module": "@jupyter-widgets/base",
            "overflow": null,
            "_model_module_version": "1.2.0",
            "_view_count": null,
            "flex_flow": null,
            "width": null,
            "min_width": null,
            "border": null,
            "align_items": null,
            "bottom": null,
            "_model_module": "@jupyter-widgets/base",
            "top": null,
            "grid_column": null,
            "overflow_y": null,
            "overflow_x": null,
            "grid_auto_flow": null,
            "grid_area": null,
            "grid_template_columns": null,
            "flex": null,
            "_model_name": "LayoutModel",
            "justify_items": null,
            "grid_row": null,
            "max_height": null,
            "align_content": null,
            "visibility": null,
            "align_self": null,
            "height": null,
            "min_height": null,
            "padding": null,
            "grid_auto_rows": null,
            "grid_gap": null,
            "max_width": null,
            "order": null,
            "_view_module_version": "1.2.0",
            "grid_template_areas": null,
            "object_position": null,
            "object_fit": null,
            "grid_auto_columns": null,
            "margin": null,
            "display": null,
            "left": null
          }
        },
        "6c774626b7d046b7b0b5dfbb817fee3f": {
          "model_module": "@jupyter-widgets/controls",
          "model_name": "DescriptionStyleModel",
          "state": {
            "_view_name": "StyleView",
            "_model_name": "DescriptionStyleModel",
            "description_width": "",
            "_view_module": "@jupyter-widgets/base",
            "_model_module_version": "1.5.0",
            "_view_count": null,
            "_view_module_version": "1.2.0",
            "_model_module": "@jupyter-widgets/controls"
          }
        },
        "f70fee08fd754d44baef39fb00cf1769": {
          "model_module": "@jupyter-widgets/base",
          "model_name": "LayoutModel",
          "state": {
            "_view_name": "LayoutView",
            "grid_template_rows": null,
            "right": null,
            "justify_content": null,
            "_view_module": "@jupyter-widgets/base",
            "overflow": null,
            "_model_module_version": "1.2.0",
            "_view_count": null,
            "flex_flow": null,
            "width": null,
            "min_width": null,
            "border": null,
            "align_items": null,
            "bottom": null,
            "_model_module": "@jupyter-widgets/base",
            "top": null,
            "grid_column": null,
            "overflow_y": null,
            "overflow_x": null,
            "grid_auto_flow": null,
            "grid_area": null,
            "grid_template_columns": null,
            "flex": null,
            "_model_name": "LayoutModel",
            "justify_items": null,
            "grid_row": null,
            "max_height": null,
            "align_content": null,
            "visibility": null,
            "align_self": null,
            "height": null,
            "min_height": null,
            "padding": null,
            "grid_auto_rows": null,
            "grid_gap": null,
            "max_width": null,
            "order": null,
            "_view_module_version": "1.2.0",
            "grid_template_areas": null,
            "object_position": null,
            "object_fit": null,
            "grid_auto_columns": null,
            "margin": null,
            "display": null,
            "left": null
          }
        }
      }
    }
  },
  "cells": [
    {
      "cell_type": "markdown",
      "metadata": {
        "id": "view-in-github",
        "colab_type": "text"
      },
      "source": [
        "<a href=\"https://colab.research.google.com/github/iwatake2222/study_karaage_ai/blob/master/karaage_ai_03_03_bert.ipynb\" target=\"_parent\"><img src=\"https://colab.research.google.com/assets/colab-badge.svg\" alt=\"Open In Colab\"/></a>"
      ]
    },
    {
      "cell_type": "code",
      "metadata": {
        "id": "1yo6XS22bj_V"
      },
      "source": [
        "!pip install transformers\n",
        "!apt install aptitude\n",
        "!aptitude install mecab libmecab-dev mecab-ipadic-utf8 git make curl xz-utils file -y\n",
        "# !pip install mecab-python3==0.7\n",
        "!pip install mecab-python3\n",
        "!pip install fugashi ipadic"
      ],
      "execution_count": null,
      "outputs": []
    },
    {
      "cell_type": "code",
      "metadata": {
        "colab": {
          "base_uri": "https://localhost:8080/",
          "height": 116,
          "referenced_widgets": [
            "7e13f5a1823949f294be42f13beffebe",
            "4c595482e4b942e9842cb21be597f9e4",
            "ad47cee8db2142d9b57485ff4d97e72d",
            "8bae242257084662a737cf51282122ee",
            "34a193c1a2d7414d95acd1241f317e23",
            "fc9ef7d4f569414e854acf9d345704b1",
            "2703d2357e0345b0a78e36294033d858",
            "be93e339120443e5a97c7c24e4988bab",
            "44f1e4f0934248398ddf45432777ac0b",
            "b7c8f5e702c242c6b20757e83f1f2f71",
            "43d8ef74218c4d4989b27c6cb20b1156",
            "bf172dcf5d5e49578e4e4205aac1dfd5",
            "bd33cadfba1d4c8bb73f7a84d4c4ed2a",
            "fafa9ad2b03c478f90752e6fcded11c1",
            "6c774626b7d046b7b0b5dfbb817fee3f",
            "f70fee08fd754d44baef39fb00cf1769"
          ]
        },
        "id": "tKe4Rj3RcdvJ",
        "outputId": "6e50e507-26fa-4a51-ee69-9d110ec4989d"
      },
      "source": [
        "import torch\n",
        "from transformers import BertJapaneseTokenizer, BertForMaskedLM\n",
        "tokenizer = BertJapaneseTokenizer.from_pretrained(\"cl-tohoku/bert-base-japanese-whole-word-masking\")"
      ],
      "execution_count": null,
      "outputs": [
        {
          "output_type": "display_data",
          "data": {
            "application/vnd.jupyter.widget-view+json": {
              "model_id": "7e13f5a1823949f294be42f13beffebe",
              "version_minor": 0,
              "version_major": 2
            },
            "text/plain": [
              "HBox(children=(FloatProgress(value=0.0, description='Downloading', max=257706.0, style=ProgressStyle(descripti…"
            ]
          },
          "metadata": {
            "tags": []
          }
        },
        {
          "output_type": "stream",
          "text": [
            "\n"
          ],
          "name": "stdout"
        },
        {
          "output_type": "display_data",
          "data": {
            "application/vnd.jupyter.widget-view+json": {
              "model_id": "44f1e4f0934248398ddf45432777ac0b",
              "version_minor": 0,
              "version_major": 2
            },
            "text/plain": [
              "HBox(children=(FloatProgress(value=0.0, description='Downloading', max=110.0, style=ProgressStyle(description_…"
            ]
          },
          "metadata": {
            "tags": []
          }
        },
        {
          "output_type": "stream",
          "text": [
            "\n"
          ],
          "name": "stdout"
        }
      ]
    },
    {
      "cell_type": "code",
      "metadata": {
        "colab": {
          "base_uri": "https://localhost:8080/"
        },
        "id": "ZCRA0JV8dGyA",
        "outputId": "15d0c7ca-fc94-45de-9ce2-91aca8a515ea"
      },
      "source": [
        "text = \"父の父は、祖父。\"\n",
        "tokenized_text = tokenizer.tokenize(text)\n",
        "print(tokenized_text)"
      ],
      "execution_count": null,
      "outputs": [
        {
          "output_type": "stream",
          "text": [
            "['父', 'の', '父', 'は', '、', '祖父', '。']\n"
          ],
          "name": "stdout"
        }
      ]
    },
    {
      "cell_type": "code",
      "metadata": {
        "colab": {
          "base_uri": "https://localhost:8080/"
        },
        "id": "AtDEuGf6dRK_",
        "outputId": "6d656122-8580-4518-b7f6-db11bab7aa59"
      },
      "source": [
        "masked_index = 2\n",
        "tokenized_text[masked_index] = \"[MASK]\"\n",
        "print(tokenized_text)"
      ],
      "execution_count": null,
      "outputs": [
        {
          "output_type": "stream",
          "text": [
            "['父', 'の', '[MASK]', 'は', '、', '祖父', '。']\n"
          ],
          "name": "stdout"
        }
      ]
    },
    {
      "cell_type": "code",
      "metadata": {
        "colab": {
          "base_uri": "https://localhost:8080/"
        },
        "id": "t_75RBs3dWku",
        "outputId": "bac1a751-409e-4589-962c-3b14d505a5de"
      },
      "source": [
        "indexed_tokens = tokenizer.convert_tokens_to_ids(tokenized_text)\n",
        "tokens_tensor = torch.tensor([indexed_tokens])\n",
        "print(indexed_tokens)\n",
        "print(tokens_tensor)"
      ],
      "execution_count": null,
      "outputs": [
        {
          "output_type": "stream",
          "text": [
            "[800, 5, 4, 9, 6, 5235, 8]\n",
            "tensor([[ 800,    5,    4,    9,    6, 5235,    8]])\n"
          ],
          "name": "stdout"
        }
      ]
    },
    {
      "cell_type": "code",
      "metadata": {
        "id": "NnKIRs4NdrmM"
      },
      "source": [
        "model_mask = BertForMaskedLM.from_pretrained(\"cl-tohoku/bert-base-japanese-whole-word-masking\")\n",
        "model_mask.eval()"
      ],
      "execution_count": null,
      "outputs": []
    },
    {
      "cell_type": "code",
      "metadata": {
        "colab": {
          "base_uri": "https://localhost:8080/"
        },
        "id": "Kc1Z2RgHd9Q-",
        "outputId": "5676f58b-66f2-47b7-d004-b4e42a4d2212"
      },
      "source": [
        "with torch.no_grad():\n",
        "  outputs = model_mask(tokens_tensor)\n",
        "  predictions = outputs[0][0, masked_index].topk(5)\n",
        "\n",
        "for i, index_t in enumerate(predictions.indices):\n",
        "  index = index_t.item()\n",
        "  token = tokenizer.convert_ids_to_tokens([index])[0]\n",
        "  print(i, token)"
      ],
      "execution_count": null,
      "outputs": [
        {
          "output_type": "execute_result",
          "data": {
            "text/plain": [
              "torch.return_types.topk(values=tensor([10.6700,  9.0205,  8.7391,  8.5026,  7.5323]), indices=tensor([  5,   6,  13, 800, 968]))"
            ]
          },
          "metadata": {
            "tags": []
          },
          "execution_count": 27
        }
      ]
    },
    {
      "cell_type": "code",
      "metadata": {
        "id": "VBKct9HYfGBd"
      },
      "source": [
        "from transformers import BertJapaneseTokenizer, BertModel\n",
        "tokenizer = BertJapaneseTokenizer.from_pretrained(\"cl-tohoku/bert-base-japanese-whole-word-masking\")\n",
        "model_bert = BertModel.from_pretrained(\"cl-tohoku/bert-base-japanese-whole-word-masking\")\n",
        "model_bert.eval()"
      ],
      "execution_count": null,
      "outputs": []
    },
    {
      "cell_type": "code",
      "metadata": {
        "id": "rClpPkGOfV4c"
      },
      "source": [
        "import numpy as np\n",
        "\n",
        "def calc_embedding(text):\n",
        "  bert_tokens = tokenizer.tokenize(text)\n",
        "  ids = tokenizer.convert_tokens_to_ids([\"[CLS]\"] + bert_tokens[:126] + [\"[SEP]\"])\n",
        "  tokens_tensor = torch.tensor(ids).reshape(1, -1)\n",
        "\n",
        "  with torch.no_grad():\n",
        "    output = model_bert(tokens_tensor)\n",
        "  return output[1].numpy()"
      ],
      "execution_count": null,
      "outputs": []
    },
    {
      "cell_type": "code",
      "metadata": {
        "colab": {
          "base_uri": "https://localhost:8080/"
        },
        "id": "yfFkxwOPfwLg",
        "outputId": "6316d6f8-1131-442c-a271-9f8a11a6d105"
      },
      "source": [
        "text = \"わたしはからあげです\"\n",
        "calc_embedding(text)"
      ],
      "execution_count": null,
      "outputs": [
        {
          "output_type": "execute_result",
          "data": {
            "text/plain": [
              "array([[-3.69789749e-01,  4.95365113e-01, -8.07093978e-02,\n",
              "        -2.51105368e-01,  5.47440574e-02,  9.97112989e-01,\n",
              "         5.01061007e-02, -2.10148305e-01, -8.91866833e-02,\n",
              "         2.69784957e-01,  3.54560256e-01, -2.23098755e-01,\n",
              "        -9.01824832e-02, -1.69146597e-01,  2.26537883e-01,\n",
              "        -2.07041274e-03, -2.28939727e-01,  1.95606753e-01,\n",
              "         9.54814032e-02,  1.60533607e-01,  9.28394496e-02,\n",
              "         2.67377704e-01, -2.76189446e-01,  9.16286707e-01,\n",
              "         9.99375463e-01,  1.74153857e-02,  3.76968563e-01,\n",
              "        -4.71857011e-01,  9.98425901e-01,  7.34468818e-01,\n",
              "        -8.31799984e-01,  1.90957800e-01, -1.98515534e-01,\n",
              "         1.50616407e-01,  2.04210490e-01,  2.80954480e-01,\n",
              "        -6.55588135e-02, -2.25878626e-01, -2.87645042e-01,\n",
              "         1.52637705e-01,  4.91190962e-02, -9.97507274e-01,\n",
              "        -1.60061911e-01, -1.25328256e-02,  7.08079576e-01,\n",
              "         5.52598312e-02,  3.90800744e-01, -1.02065504e-01,\n",
              "         2.81573892e-01, -1.49732027e-02, -1.85564071e-01,\n",
              "        -7.41634667e-01, -1.32873416e-01, -9.99888659e-01,\n",
              "        -1.20464654e-03, -9.98944268e-02, -2.63216078e-01,\n",
              "        -1.51444450e-01, -3.23792219e-01,  9.49192703e-01,\n",
              "         4.64360058e-01,  8.75780463e-01,  3.49882662e-01,\n",
              "        -4.58013266e-02, -1.18234884e-02,  3.93995643e-02,\n",
              "         3.12737562e-02,  1.87838823e-01, -4.53709483e-01,\n",
              "         9.75699782e-01, -4.42643583e-01,  8.82121995e-02,\n",
              "        -3.05575226e-02,  1.21105120e-01, -3.50433916e-01,\n",
              "        -1.48284838e-01,  9.95377362e-01, -2.88002174e-02,\n",
              "         8.13846290e-01, -1.05625084e-02, -9.14531529e-01,\n",
              "         4.81412597e-02, -1.45416960e-01, -1.68541744e-01,\n",
              "        -9.58339691e-01,  8.20920244e-02, -2.65062511e-01,\n",
              "        -4.54275966e-01, -2.97830760e-01,  2.85336107e-01,\n",
              "         5.04064560e-01, -9.68095064e-01, -2.38372996e-01,\n",
              "         1.08209044e-01, -5.36440499e-02, -9.18001011e-02,\n",
              "         7.00290501e-02, -1.92113981e-01,  1.50636986e-01,\n",
              "        -3.01051959e-02,  2.47994930e-01,  2.76147217e-01,\n",
              "         1.18205838e-01,  3.26508552e-01, -1.64201722e-01,\n",
              "         3.22576374e-01, -9.34491828e-02, -7.76254013e-02,\n",
              "        -1.08607873e-01, -8.09562504e-02,  9.94502231e-02,\n",
              "        -2.88479507e-01, -1.48697346e-01,  3.35947156e-01,\n",
              "        -5.77051602e-02, -1.97169125e-01, -1.91969767e-01,\n",
              "         6.79304004e-02, -1.19750299e-01,  2.89891034e-01,\n",
              "        -1.98630691e-02,  4.80545387e-02,  2.48848617e-01,\n",
              "         1.08973393e-02, -9.49614227e-01, -9.98186648e-01,\n",
              "        -1.24056101e-01, -1.09420851e-01,  2.78423339e-01,\n",
              "        -4.29756135e-01,  4.91475880e-01,  2.74418116e-01,\n",
              "        -3.41814935e-01, -2.59603173e-01, -1.48926184e-01,\n",
              "         5.18391617e-02, -6.77937865e-02,  9.29078385e-02,\n",
              "         3.27620357e-01,  7.86417067e-01, -5.93175879e-03,\n",
              "        -8.23872864e-01,  5.60849346e-02,  3.94419491e-01,\n",
              "        -9.98955607e-01,  6.50346354e-02,  2.47736558e-01,\n",
              "        -2.90491700e-01, -2.00308859e-02,  9.60596427e-02,\n",
              "         1.63640067e-01, -9.97638032e-02,  1.31808579e-01,\n",
              "        -1.49168879e-01, -3.43696833e-01, -1.16818316e-01,\n",
              "        -1.43725380e-01,  3.47939938e-01, -1.66095451e-01,\n",
              "        -5.20522222e-02, -2.97600895e-01, -2.36047983e-01,\n",
              "         2.21286416e-01, -2.54109800e-01,  4.67619970e-02,\n",
              "         2.17637777e-01,  1.11240065e-02,  4.64448035e-01,\n",
              "         9.97711122e-01,  6.74619377e-01,  1.65228605e-01,\n",
              "         6.45002544e-01, -1.61479771e-01, -1.76883906e-01,\n",
              "        -4.83936034e-02,  5.12439013e-01, -4.69585747e-01,\n",
              "        -1.16992407e-01, -5.79198360e-01, -3.12296376e-02,\n",
              "         2.56478339e-01,  3.07805836e-01,  4.42333519e-01,\n",
              "         1.81298405e-01,  2.02261824e-02, -1.53310522e-01,\n",
              "        -2.11262599e-01,  1.08162344e-01, -9.00045037e-01,\n",
              "        -9.19575468e-02,  1.64614230e-01, -2.10492775e-01,\n",
              "         2.14555040e-01,  1.11097181e-02,  3.17016952e-02,\n",
              "         2.32610911e-01, -9.10346955e-02,  9.55482051e-02,\n",
              "        -7.60330260e-02,  9.69387233e-01, -9.70533192e-01,\n",
              "         1.63481101e-01, -9.92279425e-02,  6.26241088e-01,\n",
              "        -2.04277318e-03, -1.19598158e-01, -9.80724692e-01,\n",
              "         1.76110685e-01, -1.88983843e-01,  4.53316197e-02,\n",
              "        -2.44293466e-01, -2.08816156e-01, -8.59555542e-01,\n",
              "         9.36140001e-01,  9.65904355e-01,  2.56634384e-01,\n",
              "        -2.96247125e-01, -3.65537368e-02,  8.98770392e-02,\n",
              "         4.70718555e-02,  1.56749219e-01, -1.64721861e-01,\n",
              "         3.44855309e-01,  2.72385702e-02,  7.97158033e-02,\n",
              "         9.77396443e-02, -4.00644422e-01,  9.29076195e-01,\n",
              "        -1.91523954e-01,  9.92342412e-01,  9.30021048e-01,\n",
              "        -1.50307387e-01, -8.07473511e-02, -6.99019283e-02,\n",
              "        -1.03853449e-01, -9.15907547e-02, -2.90272206e-01,\n",
              "        -4.50043455e-02, -1.82991892e-01, -9.79744866e-02,\n",
              "        -9.12184790e-02,  7.34093338e-02, -7.70034688e-03,\n",
              "         9.98966336e-01,  1.89441070e-01, -1.81464255e-02,\n",
              "         1.37703165e-01, -1.38020173e-01, -1.95443854e-01,\n",
              "        -1.18626766e-01, -9.99075592e-01,  3.22463691e-01,\n",
              "         2.34500244e-02,  3.78279388e-02, -4.87957187e-02,\n",
              "         1.22714974e-01,  9.98735607e-01, -2.70840853e-01,\n",
              "         9.98340368e-01,  2.11564973e-01, -4.32787612e-02,\n",
              "        -9.80569005e-01, -3.81133348e-01,  3.93993631e-02,\n",
              "         9.96816337e-01,  4.67973873e-02,  1.59248307e-01,\n",
              "        -2.87682176e-01, -1.72933623e-01,  9.85600054e-01,\n",
              "        -1.40663609e-02,  1.10875200e-02,  3.57975438e-02,\n",
              "         1.89793799e-02,  3.00180446e-02,  1.72083929e-01,\n",
              "         2.06883997e-01, -9.35161114e-01, -8.31640184e-01,\n",
              "         9.61934850e-02,  1.77226186e-01,  4.40545768e-01,\n",
              "        -2.49754369e-01,  9.97630656e-01, -2.20891923e-01,\n",
              "         1.32109717e-01,  7.73528218e-02,  1.14112556e-01,\n",
              "         3.78770046e-02, -9.98421133e-01, -7.94729233e-01,\n",
              "        -1.52813300e-01, -1.75956145e-01,  3.41838986e-01,\n",
              "         2.54377127e-01,  2.49469325e-01, -1.46366104e-01,\n",
              "         1.56036094e-01, -3.05135711e-03,  9.94658351e-01,\n",
              "        -2.80475199e-01, -9.93149281e-01,  9.34695452e-02,\n",
              "        -3.09989512e-01,  2.94109434e-01,  2.99258888e-01,\n",
              "        -9.98648107e-01, -2.88368255e-01, -8.01104680e-03,\n",
              "        -9.97120380e-01, -4.23554003e-01,  1.89580649e-01,\n",
              "        -9.62077022e-01,  9.23995972e-01,  9.54821259e-02,\n",
              "         4.88529876e-02,  1.77253798e-01, -2.71064907e-01,\n",
              "        -2.96105683e-01, -6.46979511e-02, -5.00584468e-02,\n",
              "         2.07397953e-01,  9.90076423e-01, -2.26575926e-01,\n",
              "        -1.51810914e-01,  1.58562019e-01, -9.63744998e-01,\n",
              "        -9.94912256e-03,  2.41487667e-01,  1.56395644e-01,\n",
              "        -2.45552644e-01, -3.94711643e-01, -1.81657881e-01,\n",
              "         2.56928712e-01, -5.92340156e-02,  5.40910615e-03,\n",
              "        -3.75319272e-01,  1.95646547e-02,  7.08916262e-02,\n",
              "        -2.51521289e-01,  8.75189975e-02, -7.72940576e-01,\n",
              "         9.77310911e-02,  5.71504049e-02, -4.46744375e-02,\n",
              "        -4.63568307e-02, -1.78306594e-01,  3.02769810e-01,\n",
              "        -1.72277480e-01,  8.60451683e-02, -7.65611604e-02,\n",
              "        -1.57646418e-01, -4.29501869e-02, -1.15303881e-01,\n",
              "         1.26361355e-01, -7.37425163e-02,  2.75436908e-01,\n",
              "        -2.20392272e-01, -3.24074447e-01, -3.31709802e-01,\n",
              "        -2.07158253e-01,  9.89330828e-01, -6.55079028e-03,\n",
              "         1.45170942e-01, -9.96527016e-01,  9.27343786e-01,\n",
              "        -3.18984985e-01, -1.01516195e-01, -2.90749490e-01,\n",
              "         1.36159420e-01,  5.87288244e-03, -3.67945164e-01,\n",
              "         1.12850070e-01,  1.39063656e-01, -3.18155549e-02,\n",
              "        -6.20270669e-01,  9.20103073e-01,  1.18631944e-01,\n",
              "         2.58032292e-01,  9.98418391e-01,  6.27140179e-02,\n",
              "         1.99751154e-01, -2.25665778e-01,  1.61874723e-02,\n",
              "        -2.23015964e-01, -8.23747635e-01, -2.22602934e-01,\n",
              "         1.52557909e-01, -3.03545520e-02, -1.33979246e-01,\n",
              "         2.56106257e-03,  5.81006765e-01, -3.22163761e-01,\n",
              "         1.97729379e-01,  1.48031399e-01,  1.81106910e-01,\n",
              "         2.62060285e-01,  1.12029284e-01,  1.14740640e-01,\n",
              "         1.60455164e-02, -2.18169063e-01, -2.08219178e-02,\n",
              "        -6.14917874e-01, -2.19837964e-01, -2.11035267e-01,\n",
              "        -9.78037059e-01, -2.91249573e-01, -1.91535488e-01,\n",
              "        -1.31010488e-01,  1.95973888e-01, -1.34182274e-01,\n",
              "        -7.82643437e-01, -1.62330046e-01, -9.99860585e-01,\n",
              "        -2.12529302e-01, -2.90692389e-01, -7.21693754e-01,\n",
              "        -9.99916375e-01, -8.32263008e-02, -2.25540474e-01,\n",
              "        -2.70516574e-01, -7.93505162e-02, -1.19229987e-01,\n",
              "         2.22384825e-01, -5.57919033e-03,  5.15938640e-01,\n",
              "         1.67001486e-02, -1.48329005e-01, -2.86431134e-01,\n",
              "         8.39783773e-02, -9.91931021e-01,  9.99003589e-01,\n",
              "         4.70343292e-01,  2.17648059e-01, -1.05018087e-01,\n",
              "        -3.62089694e-01,  2.05609128e-01,  9.94452775e-01,\n",
              "         2.69942015e-01,  8.79894733e-01, -4.91656065e-01,\n",
              "         1.85040414e-01,  1.04422577e-01,  2.13948842e-02,\n",
              "        -2.33172551e-01, -9.63704526e-01,  8.25656652e-01,\n",
              "         1.19576290e-01, -6.50563538e-01,  4.90964830e-01,\n",
              "         9.94996488e-01, -2.30888110e-02,  1.05724499e-01,\n",
              "         9.12341714e-01, -8.80957097e-02, -3.43084723e-01,\n",
              "         2.16061488e-01, -5.89840531e-01, -9.89137515e-02,\n",
              "        -2.80343264e-01,  7.20653385e-02, -2.57750779e-01,\n",
              "         2.14125261e-01, -5.00173509e-01,  9.59783137e-01,\n",
              "         9.98304307e-01,  1.06606379e-01, -8.80058587e-01,\n",
              "         2.12381542e-01,  2.78031737e-01,  1.12844735e-01,\n",
              "         2.00581640e-01,  4.87804711e-02,  3.22062910e-01,\n",
              "        -2.74871945e-01,  5.41666806e-01, -2.76208043e-01,\n",
              "        -4.36399281e-01, -9.15975928e-01,  2.25029469e-01,\n",
              "        -9.46621239e-01,  9.58514512e-01, -2.11917818e-01,\n",
              "        -9.99358296e-01,  4.13101446e-03,  1.33110229e-02,\n",
              "         5.22365086e-02, -5.79090603e-02, -6.41421437e-01,\n",
              "        -3.21843624e-01,  9.99917030e-01,  1.87597260e-01,\n",
              "         1.56654954e-01,  7.48751312e-02, -1.90260991e-01,\n",
              "        -2.45375976e-01, -2.00327098e-01,  4.66823578e-02,\n",
              "         9.77410257e-01, -2.52584275e-02,  2.53528468e-02,\n",
              "        -9.99029815e-01,  9.44487274e-01,  3.28179970e-02,\n",
              "        -9.00782168e-01,  2.02625990e-04, -2.33621866e-01,\n",
              "        -2.81339232e-02,  4.92472090e-02, -9.92770433e-01,\n",
              "         3.95131446e-02, -3.23409826e-01, -1.17010064e-02,\n",
              "         2.64816970e-01,  2.01165583e-02, -1.64300382e-01,\n",
              "         2.46569025e-03, -6.34228662e-02,  7.02901036e-02,\n",
              "        -9.68375087e-01, -3.89067948e-01, -2.33499438e-01,\n",
              "        -2.60211468e-01,  9.90768611e-01, -2.92726785e-01,\n",
              "         2.98584163e-01, -5.83679974e-01,  2.53501087e-01,\n",
              "         9.94410098e-01,  1.93828286e-03,  8.86643291e-01,\n",
              "        -5.54561436e-01, -2.30667055e-01, -9.99966979e-01,\n",
              "        -1.01306431e-01, -8.64253283e-01, -1.51305839e-01,\n",
              "         2.36439779e-01,  1.58283904e-01,  5.46208955e-02,\n",
              "         3.24270070e-01,  8.44191253e-01,  2.93936670e-01,\n",
              "         5.60470764e-03,  1.87499113e-02,  9.98413622e-01,\n",
              "        -5.50169110e-01, -8.42903852e-02, -8.27992201e-01,\n",
              "        -2.09816143e-01, -2.52899587e-01,  3.43736857e-01,\n",
              "         9.95993465e-02, -9.66860414e-01, -1.71240550e-02,\n",
              "        -3.45076770e-02, -2.32562646e-02, -1.47276878e-01,\n",
              "        -1.33082852e-01, -1.92997009e-01, -6.59512341e-01,\n",
              "         7.87564278e-01,  1.58928171e-01, -5.38606904e-02,\n",
              "        -9.98980701e-01, -1.46506488e-01, -1.30072102e-01,\n",
              "         1.20031007e-01,  7.42331594e-02,  7.62785524e-02,\n",
              "         1.64244801e-01, -2.55966187e-01, -8.60791028e-01,\n",
              "         1.05140470e-01, -9.21255291e-01, -2.08456397e-01,\n",
              "         9.99430954e-01, -6.24215826e-02,  2.55282074e-01,\n",
              "        -8.54888707e-02, -3.16115767e-01, -1.65720284e-01,\n",
              "        -3.30961227e-01, -1.36752769e-01, -1.98654145e-01,\n",
              "        -8.95335853e-01,  3.21799159e-01,  1.25035760e-03,\n",
              "         1.45054936e-01,  8.51366576e-03, -5.80026396e-03,\n",
              "         2.95235813e-01,  2.08959728e-01, -9.67621148e-01,\n",
              "         2.45194048e-01, -9.72268105e-01, -3.03153604e-01,\n",
              "         3.28812659e-01, -8.20237920e-02,  4.16161478e-01,\n",
              "         1.81064531e-01,  9.99134541e-01,  3.28284502e-02,\n",
              "         9.95804787e-01,  1.88391283e-01, -3.91072571e-01,\n",
              "        -1.53838992e-01,  1.42211124e-01,  3.45265344e-02,\n",
              "         6.64710402e-02, -8.58207405e-01, -1.45463645e-01,\n",
              "        -9.15433690e-02, -2.30294347e-01,  2.78388530e-01,\n",
              "        -9.70871150e-01,  8.35779756e-02,  2.21571587e-02,\n",
              "        -2.85570443e-01, -3.34717244e-01,  9.99194860e-01,\n",
              "         6.72407806e-01,  1.46296769e-01, -1.59704909e-01,\n",
              "        -6.27881661e-02,  6.74622953e-01, -1.42077222e-01,\n",
              "        -6.60044956e-04, -9.52915996e-02, -8.43838081e-02,\n",
              "         1.69072747e-01, -3.63219559e-01, -2.01545462e-01,\n",
              "         2.79043406e-01,  7.10138023e-01, -3.39266449e-01,\n",
              "         3.71859938e-01, -1.82972759e-01, -1.39470264e-01,\n",
              "        -5.31013124e-02, -4.60071981e-01,  6.37798849e-03,\n",
              "        -3.18193287e-01, -4.46570590e-02, -9.27933082e-02,\n",
              "        -9.95931029e-01,  9.65027153e-01,  7.19626427e-01,\n",
              "        -1.56638339e-01, -8.10002536e-03, -8.57410356e-02,\n",
              "         3.31686251e-02, -1.92623883e-02, -1.01355590e-01,\n",
              "        -9.98961031e-01,  1.40672103e-01, -6.19748142e-03,\n",
              "        -5.63325137e-02,  6.62523687e-01,  3.66799891e-01,\n",
              "         1.05626807e-01,  9.89399672e-01,  3.08206379e-01,\n",
              "         1.53329089e-01,  2.80519634e-01,  3.27098370e-02,\n",
              "         1.28087886e-02, -4.45783362e-02,  9.02836546e-02,\n",
              "         3.17606367e-02,  1.11254096e-01,  1.87578332e-02,\n",
              "         3.20263177e-01,  9.89718258e-01, -1.52079137e-02,\n",
              "        -1.20839164e-01, -3.16583037e-01,  5.92552871e-02,\n",
              "         2.90219218e-01,  7.45218337e-01, -8.69369283e-02,\n",
              "         8.94717872e-01,  2.98718423e-01,  9.52003479e-01,\n",
              "         3.02430764e-02, -1.26156181e-01,  3.79862398e-01,\n",
              "        -9.54322070e-02, -5.27987955e-03,  2.16481581e-01,\n",
              "         9.21217322e-01,  9.31761086e-01,  6.96946010e-02,\n",
              "         2.75448889e-01,  1.72262624e-01, -2.88191050e-01,\n",
              "        -2.70869024e-02,  1.32897288e-01,  4.55640942e-01,\n",
              "         2.64328003e-01, -3.23575914e-01, -1.11570366e-01,\n",
              "         1.57142073e-01, -1.51547924e-01, -3.48641910e-02,\n",
              "        -4.96418662e-02,  2.03929722e-01, -9.99171019e-01,\n",
              "         1.46429777e-01, -2.90981710e-01,  1.68261349e-01,\n",
              "        -4.47852910e-03,  9.99978483e-01,  3.34566563e-01,\n",
              "        -1.55494902e-02,  2.16102257e-01,  2.67556682e-02,\n",
              "        -6.78142846e-01, -3.55051130e-01,  2.55457163e-01,\n",
              "         5.42517267e-02, -6.72636032e-02,  8.33592936e-02,\n",
              "        -4.92827184e-02, -1.85625687e-01, -9.93107319e-01,\n",
              "         2.17527058e-02,  3.51078272e-01, -2.71677345e-01,\n",
              "        -1.32089153e-01,  1.19268268e-01, -9.02855933e-01,\n",
              "        -9.94599283e-01,  3.36670876e-01,  1.19493157e-01,\n",
              "         9.68290642e-02, -2.55093146e-02,  2.03622952e-01,\n",
              "         7.13757426e-02,  1.49479005e-02,  9.68821883e-01,\n",
              "        -3.76870483e-01,  6.03241846e-02,  6.97613955e-02,\n",
              "        -4.25060868e-01, -6.59151003e-02, -4.61324677e-03,\n",
              "        -1.32593945e-01, -9.97388899e-01,  3.08525711e-01,\n",
              "        -4.48878258e-02, -3.29410672e-01, -1.81657404e-01,\n",
              "         1.05511256e-01,  6.39560074e-02, -9.99864101e-01,\n",
              "        -6.41399443e-01,  2.20069185e-01, -7.28443936e-02,\n",
              "         4.37381417e-02, -1.25282742e-02, -2.86541283e-02,\n",
              "        -1.98910013e-01,  9.79319215e-03,  3.95834386e-01,\n",
              "        -1.15657344e-01, -1.99201599e-01, -2.79014766e-01]], dtype=float32)"
            ]
          },
          "metadata": {
            "tags": []
          },
          "execution_count": 49
        }
      ]
    }
  ]
}